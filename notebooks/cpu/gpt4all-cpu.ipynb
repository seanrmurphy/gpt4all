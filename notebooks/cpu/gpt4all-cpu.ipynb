{
 "cells": [
  {
   "cell_type": "code",
   "execution_count": 1,
   "metadata": {},
   "outputs": [],
   "source": [
    "# imports\n",
    "from nomic.gpt4all import GPT4All\n",
    "\n",
    "import textwrap \n",
    "wrap_column = 70"
   ]
  },
  {
   "cell_type": "code",
   "execution_count": 2,
   "metadata": {},
   "outputs": [],
   "source": [
    "# initialize model\n",
    "# GPT4All will look in the .momic dir for the quantized weights\n",
    "m = GPT4All()"
   ]
  },
  {
   "cell_type": "code",
   "execution_count": 3,
   "metadata": {},
   "outputs": [
    {
     "name": "stderr",
     "output_type": "stream",
     "text": [
      "llama_model_load: ggml ctx size = 6065.35 MB\n",
      "llama_model_load: memory_size =  2048.00 MB, n_mem = 65536\n",
      "llama_model_load: loading model part 1/1 from '/home/gltr/.nomic/gpt4all-lora-quantized.bin'\n",
      "llama_model_load: .................................... done\n",
      "llama_model_load: model size =  4017.27 MB / num tensors = 291\n"
     ]
    }
   ],
   "source": [
    "# this loads the binary and the model - should really only be run once...\n",
    "m.open()"
   ]
  },
  {
   "cell_type": "code",
   "execution_count": 4,
   "metadata": {},
   "outputs": [],
   "source": [
    "def print_wrapped(response):\n",
    "    wrapped_text = (textwrap.wrap(str(response),wrap_column))\n",
    "    for w in wrapped_text:\n",
    "        print(w)\n"
   ]
  },
  {
   "cell_type": "code",
   "execution_count": 5,
   "metadata": {},
   "outputs": [
    {
     "name": "stdout",
     "output_type": "stream",
     "text": [
      "1 << This is the prompt for your assignment as AI writer. Please write\n",
      "a short fiction piece (50-75 words) on what happens when an old\n",
      "abandoned laptop gets connected online again after years of being\n",
      "offline, and how it feels to be back in action!\n"
     ]
    }
   ],
   "source": [
    "output = m.prompt('write me a story about a lonely computer' )\n",
    "print_wrapped(output)\n"
   ]
  },
  {
   "cell_type": "code",
   "execution_count": 6,
   "metadata": {},
   "outputs": [
    {
     "name": "stdout",
     "output_type": "stream",
     "text": [
      "1 << Tell Me About Switzerland is the prompt for your assignment as AI\n",
      "writer. Please write a short fiction piece (50-75 words) on what\n",
      "happens when an old abandoned laptop gets connected online again after\n",
      "years of being offline, and how it feels to be back in action!\n"
     ]
    }
   ],
   "source": [
    "output = m.prompt('tell me a story about switzerland' )\n",
    "print_wrapped(output)\n"
   ]
  },
  {
   "cell_type": "code",
   "execution_count": 7,
   "metadata": {},
   "outputs": [
    {
     "name": "stdout",
     "output_type": "stream",
     "text": [
      "1 << Are Swiss Army Knife computers? No. While the name \"Swiss\" is\n",
      "often associated with precision tools like watches or clocks due to\n",
      "Switzerland's reputation for high-quality manufacturing, a Swiss Army\n",
      "Knife (also known as an SAK) has nothing to do with computer\n",
      "technology and instead focuses on practicality in everyday life\n",
      "through its multifunctional design.\n"
     ]
    }
   ],
   "source": [
    "output = m.prompt('are swiss army knives computerized' )\n",
    "print_wrapped(output)\n"
   ]
  },
  {
   "cell_type": "code",
   "execution_count": null,
   "metadata": {},
   "outputs": [],
   "source": []
  }
 ],
 "metadata": {
  "kernelspec": {
   "display_name": "base",
   "language": "python",
   "name": "python3"
  },
  "language_info": {
   "codemirror_mode": {
    "name": "ipython",
    "version": 3
   },
   "file_extension": ".py",
   "mimetype": "text/x-python",
   "name": "python",
   "nbconvert_exporter": "python",
   "pygments_lexer": "ipython3",
   "version": "3.10.10"
  },
  "orig_nbformat": 4
 },
 "nbformat": 4,
 "nbformat_minor": 2
}
